{
 "cells": [
  {
   "cell_type": "markdown",
   "id": "e234a62e-7a4c-4f29-8556-4a670e5a7df0",
   "metadata": {},
   "source": [
    "## PCA\n",
    "PCA will be created on `Description` column which mast be converted into columns with words and tf-idf. So before I start PCA I need to complete Clustering and Description processing"
   ]
  },
  {
   "cell_type": "code",
   "execution_count": 1,
   "id": "0966c436-92aa-4ace-873f-69755926e18f",
   "metadata": {},
   "outputs": [],
   "source": [
    "# import libraries\n",
    "import pandas as pd\n",
    "import numpy as np\n",
    "import seaborn as sns\n",
    "import matplotlib.pyplot as plt\n",
    "import matplotlib_inline\n",
    "%matplotlib inline\n",
    "import seaborn as sns\n",
    "from sklearn.decomposition import PCA"
   ]
  },
  {
   "cell_type": "code",
   "execution_count": 2,
   "id": "d6f58da0-6919-40eb-8f51-c35d172e3a81",
   "metadata": {},
   "outputs": [],
   "source": [
    "##  pandas profiling\n",
    "#!pip install https://github.com/pandas-profiling/pandas-profiling/archive/master.zip    \n",
    "from pandas_profiling import ProfileReport"
   ]
  },
  {
   "cell_type": "code",
   "execution_count": 3,
   "id": "2d62e4dd-0338-4ce8-85ea-4a922887982c",
   "metadata": {},
   "outputs": [],
   "source": [
    "# data location:\n",
    "path = './data/'\n",
    "file_name = 'Online Retail.xlsx'\n",
    "sheet_name = 'Online Retail'\n",
    "file_name1 = 'retail-products-classification/train.csv'"
   ]
  },
  {
   "cell_type": "code",
   "execution_count": 4,
   "id": "0d9c49cc-96b5-4947-b983-013cde6953ec",
   "metadata": {},
   "outputs": [],
   "source": [
    "# read excel file\n",
    "df = pd.read_excel(path + file_name, sheet_name=sheet_name)"
   ]
  },
  {
   "cell_type": "code",
   "execution_count": 6,
   "id": "a46f8e65-bfc8-4160-80db-1666c3640d76",
   "metadata": {},
   "outputs": [],
   "source": [
    "#read csv file\n",
    "#df_new = pd.read_csv(path + file_name1)"
   ]
  }
 ],
 "metadata": {
  "kernelspec": {
   "display_name": "Python 3 (ipykernel)",
   "language": "python",
   "name": "python3"
  },
  "language_info": {
   "codemirror_mode": {
    "name": "ipython",
    "version": 3
   },
   "file_extension": ".py",
   "mimetype": "text/x-python",
   "name": "python",
   "nbconvert_exporter": "python",
   "pygments_lexer": "ipython3",
   "version": "3.8.8"
  }
 },
 "nbformat": 4,
 "nbformat_minor": 5
}
