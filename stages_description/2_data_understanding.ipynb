{
 "cells": [
  {
   "cell_type": "markdown",
   "metadata": {
    "id": "_RbelOPK4TFB",
    "jp-MarkdownHeadingCollapsed": true,
    "tags": []
   },
   "source": [
    "# data understanding\n",
    "------------\n",
    "The data understanding phase starts with an initial data collection and proceeds withactivities in order to get familiar with the data, to identify data quality problems, to discover first insights into the data or to detect interesting subsets to form hypothesesfor hidden information."
   ]
  },
  {
   "cell_type": "markdown",
   "metadata": {
    "id": "Wfrdzmhe0Zfr",
    "tags": []
   },
   "source": [
    "## collect initial data\n",
    "----------\n",
    "\n",
    "### task\n",
    "\n",
    "Acquire within the project the data (or access to the data) listed in the\n",
    "project resources. This initial collection includes data loading if necessary\n",
    "for data understanding. For example, if you apply a specific tool for data\n",
    "understanding, it makes perfect sense to load your data into this tool.\n",
    "This effort possibly leads to initial data preparation steps.\n",
    "\n",
    "Note: if you acquire multiple data sources, integration is an additional\n",
    "issue, either here or in the later data preparation phase.\n",
    "\n",
    "### output\n",
    "\n",
    "List the dataset (or datasets) acquired, together with their locations\n",
    "within the project, the methods used to acquire them and any problems\n",
    "encountered. Record problems encountered and any solutions achieved\n",
    "to aid with future replication of this project or with the execution of\n",
    "similar future projects."
   ]
  },
  {
   "cell_type": "markdown",
   "metadata": {
    "id": "6Sc9nvcRfYwT",
    "tags": []
   },
   "source": [
    "## describe data\n",
    "----------\n",
    "\n",
    "### task\n",
    "\n",
    "Examine the “gross” or “surface” properties of the acquired data and\n",
    "report on the results.\n",
    "\n",
    "### output\n",
    "\n",
    "Describe the data which has been acquired, including: the format of\n",
    "the data, the quantity of data, for example number of records and fields\n",
    "in each table, the identities of the fields and any other surface features\n",
    "of the data which have been discovered. Does the data acquired satisfy\n",
    "the relevant requirements?"
   ]
  },
  {
   "cell_type": "markdown",
   "metadata": {
    "id": "LYGa0Os-foIw"
   },
   "source": [
    "## explore data\n",
    "----------\n",
    "\n",
    "### task\n",
    "\n",
    "This task tackles the data mining questions, which can be addressed\n",
    "using querying, visualization and reporting. These include: distribution\n",
    "of key attributes, for example the target attribute of a prediction task;\n",
    "relations between pairs or small numbers of attributes; results of\n",
    "simple aggregations; properties of significant sub-populations; simple\n",
    "statistical analyses. These analyses may address directly the data mining goals; they may also contribute to or refine the data description\n",
    "and quality reports and feed into the transformation and other data\n",
    "preparation needed for further analysis.\n",
    "\n",
    "### output\n",
    "\n",
    "Describe results of this task including first findings or initial hypothesis and their impact on the remainder of the project. If appropriate,\n",
    "include graphs and plots, which indicate data characteristics or lead\n",
    "to interesting data subsets for further examination."
   ]
  },
  {
   "cell_type": "markdown",
   "metadata": {
    "id": "j2Qk3wwff3qz"
   },
   "source": [
    "## verify data quality\n",
    "----------\n",
    "\n",
    "### task\n",
    "\n",
    "Examine the quality of the data, addressing questions such as: is the\n",
    "data complete (does it cover all the cases required)? Is it correct or\n",
    "does it contain errors and if there are errors how common are they?\n",
    "Are there missing values in the data? If so how are they represented,\n",
    "where do they occur and how common are they?\n",
    "\n",
    "### output\n",
    "\n",
    "List the results of the data quality verification; if quality problems\n",
    "exist, list possible solutions. Solutions to data quality problems\n",
    "generally depend heavily on both data and business knowledge."
   ]
  }
 ],
 "metadata": {
  "colab": {
   "authorship_tag": "ABX9TyOdbj/NpXAo0mTrRZTN4P0/",
   "collapsed_sections": [],
   "name": "data-understanding.ipynb",
   "provenance": []
  },
  "kernelspec": {
   "display_name": "Python 3 (ipykernel)",
   "language": "python",
   "name": "python3"
  },
  "language_info": {
   "codemirror_mode": {
    "name": "ipython",
    "version": 3
   },
   "file_extension": ".py",
   "mimetype": "text/x-python",
   "name": "python",
   "nbconvert_exporter": "python",
   "pygments_lexer": "ipython3",
   "version": "3.8.8"
  },
  "toc-autonumbering": true,
  "toc-showcode": false,
  "toc-showmarkdowntxt": false,
  "toc-showtags": false
 },
 "nbformat": 4,
 "nbformat_minor": 4
}
