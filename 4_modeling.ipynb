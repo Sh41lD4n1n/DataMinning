{
 "cells": [
  {
   "cell_type": "code",
   "execution_count": 1,
   "metadata": {},
   "outputs": [],
   "source": [
    "# import libraries\n",
    "import pandas as pd\n",
    "import numpy as np\n",
    "import seaborn as sns\n",
    "import matplotlib.pyplot as plt\n",
    "import matplotlib_inline\n",
    "%matplotlib inline"
   ]
  },
  {
   "cell_type": "code",
   "execution_count": 2,
   "metadata": {},
   "outputs": [],
   "source": [
    "#!pip install -U imbalanced-learn"
   ]
  },
  {
   "cell_type": "code",
   "execution_count": 3,
   "metadata": {},
   "outputs": [],
   "source": [
    "# import python module\n",
    "#from python.xxxx import XXXX"
   ]
  },
  {
   "cell_type": "code",
   "execution_count": 4,
   "metadata": {},
   "outputs": [],
   "source": [
    "# set random seed\n",
    "import random\n",
    "random.seed(335)"
   ]
  },
  {
   "cell_type": "code",
   "execution_count": 5,
   "metadata": {},
   "outputs": [],
   "source": [
    "# magic word\n",
    "pd.set_option('display.max_rows', 500)\n",
    "pd.set_option('display.max_columns', 500)"
   ]
  },
  {
   "cell_type": "code",
   "execution_count": 6,
   "metadata": {},
   "outputs": [],
   "source": [
    "# for better viz\n",
    "import pprint\n",
    "import warnings\n",
    "warnings.filterwarnings('ignore')"
   ]
  },
  {
   "cell_type": "code",
   "execution_count": 7,
   "metadata": {},
   "outputs": [],
   "source": [
    "df = pd.read_csv('./data/OnlineRetail.csv')"
   ]
  },
  {
   "cell_type": "code",
   "execution_count": 8,
   "metadata": {},
   "outputs": [
    {
     "data": {
      "text/html": [
       "<div>\n",
       "<style scoped>\n",
       "    .dataframe tbody tr th:only-of-type {\n",
       "        vertical-align: middle;\n",
       "    }\n",
       "\n",
       "    .dataframe tbody tr th {\n",
       "        vertical-align: top;\n",
       "    }\n",
       "\n",
       "    .dataframe thead th {\n",
       "        text-align: right;\n",
       "    }\n",
       "</style>\n",
       "<table border=\"1\" class=\"dataframe\">\n",
       "  <thead>\n",
       "    <tr style=\"text-align: right;\">\n",
       "      <th></th>\n",
       "      <th>Unnamed: 0</th>\n",
       "      <th>Description</th>\n",
       "      <th>Quantity</th>\n",
       "      <th>UnitPrice</th>\n",
       "      <th>CustomerID</th>\n",
       "      <th>Month</th>\n",
       "      <th>Australia</th>\n",
       "      <th>Austria</th>\n",
       "      <th>Bahrain</th>\n",
       "      <th>Belgium</th>\n",
       "      <th>Brazil</th>\n",
       "      <th>Canada</th>\n",
       "      <th>Channel Islands</th>\n",
       "      <th>Cyprus</th>\n",
       "      <th>Czech Republic</th>\n",
       "      <th>Denmark</th>\n",
       "      <th>EIRE</th>\n",
       "      <th>European Community</th>\n",
       "      <th>Finland</th>\n",
       "      <th>France</th>\n",
       "      <th>Germany</th>\n",
       "      <th>Greece</th>\n",
       "      <th>Iceland</th>\n",
       "      <th>Israel</th>\n",
       "      <th>Italy</th>\n",
       "      <th>Japan</th>\n",
       "      <th>Lebanon</th>\n",
       "      <th>Lithuania</th>\n",
       "      <th>Malta</th>\n",
       "      <th>Netherlands</th>\n",
       "      <th>Norway</th>\n",
       "      <th>Poland</th>\n",
       "      <th>Portugal</th>\n",
       "      <th>RSA</th>\n",
       "      <th>Saudi Arabia</th>\n",
       "      <th>Singapore</th>\n",
       "      <th>Spain</th>\n",
       "      <th>Sweden</th>\n",
       "      <th>Switzerland</th>\n",
       "      <th>USA</th>\n",
       "      <th>United Arab Emirates</th>\n",
       "      <th>United Kingdom</th>\n",
       "      <th>Unspecified</th>\n",
       "      <th>Satisfaction</th>\n",
       "    </tr>\n",
       "  </thead>\n",
       "  <tbody>\n",
       "    <tr>\n",
       "      <th>0</th>\n",
       "      <td>0</td>\n",
       "      <td>WHITE HANGING HEART T-LIGHT HOLDER</td>\n",
       "      <td>6</td>\n",
       "      <td>2.55</td>\n",
       "      <td>17850.0</td>\n",
       "      <td>12</td>\n",
       "      <td>0.0</td>\n",
       "      <td>0.0</td>\n",
       "      <td>0.0</td>\n",
       "      <td>0.0</td>\n",
       "      <td>0.0</td>\n",
       "      <td>0.0</td>\n",
       "      <td>0.0</td>\n",
       "      <td>0.0</td>\n",
       "      <td>0.0</td>\n",
       "      <td>0.0</td>\n",
       "      <td>0.0</td>\n",
       "      <td>0.0</td>\n",
       "      <td>0.0</td>\n",
       "      <td>0.0</td>\n",
       "      <td>0.0</td>\n",
       "      <td>0.0</td>\n",
       "      <td>0.0</td>\n",
       "      <td>0.0</td>\n",
       "      <td>0.0</td>\n",
       "      <td>0.0</td>\n",
       "      <td>0.0</td>\n",
       "      <td>0.0</td>\n",
       "      <td>0.0</td>\n",
       "      <td>0.0</td>\n",
       "      <td>0.0</td>\n",
       "      <td>0.0</td>\n",
       "      <td>0.0</td>\n",
       "      <td>0.0</td>\n",
       "      <td>0.0</td>\n",
       "      <td>0.0</td>\n",
       "      <td>0.0</td>\n",
       "      <td>0.0</td>\n",
       "      <td>0.0</td>\n",
       "      <td>0.0</td>\n",
       "      <td>0.0</td>\n",
       "      <td>1.0</td>\n",
       "      <td>0.0</td>\n",
       "      <td>1.0</td>\n",
       "    </tr>\n",
       "    <tr>\n",
       "      <th>1</th>\n",
       "      <td>1</td>\n",
       "      <td>WHITE METAL LANTERN</td>\n",
       "      <td>6</td>\n",
       "      <td>3.39</td>\n",
       "      <td>17850.0</td>\n",
       "      <td>12</td>\n",
       "      <td>0.0</td>\n",
       "      <td>0.0</td>\n",
       "      <td>0.0</td>\n",
       "      <td>0.0</td>\n",
       "      <td>0.0</td>\n",
       "      <td>0.0</td>\n",
       "      <td>0.0</td>\n",
       "      <td>0.0</td>\n",
       "      <td>0.0</td>\n",
       "      <td>0.0</td>\n",
       "      <td>0.0</td>\n",
       "      <td>0.0</td>\n",
       "      <td>0.0</td>\n",
       "      <td>0.0</td>\n",
       "      <td>0.0</td>\n",
       "      <td>0.0</td>\n",
       "      <td>0.0</td>\n",
       "      <td>0.0</td>\n",
       "      <td>0.0</td>\n",
       "      <td>0.0</td>\n",
       "      <td>0.0</td>\n",
       "      <td>0.0</td>\n",
       "      <td>0.0</td>\n",
       "      <td>0.0</td>\n",
       "      <td>0.0</td>\n",
       "      <td>0.0</td>\n",
       "      <td>0.0</td>\n",
       "      <td>0.0</td>\n",
       "      <td>0.0</td>\n",
       "      <td>0.0</td>\n",
       "      <td>0.0</td>\n",
       "      <td>0.0</td>\n",
       "      <td>0.0</td>\n",
       "      <td>0.0</td>\n",
       "      <td>0.0</td>\n",
       "      <td>1.0</td>\n",
       "      <td>0.0</td>\n",
       "      <td>0.0</td>\n",
       "    </tr>\n",
       "    <tr>\n",
       "      <th>2</th>\n",
       "      <td>2</td>\n",
       "      <td>CREAM CUPID HEARTS COAT HANGER</td>\n",
       "      <td>8</td>\n",
       "      <td>2.75</td>\n",
       "      <td>17850.0</td>\n",
       "      <td>12</td>\n",
       "      <td>0.0</td>\n",
       "      <td>0.0</td>\n",
       "      <td>0.0</td>\n",
       "      <td>0.0</td>\n",
       "      <td>0.0</td>\n",
       "      <td>0.0</td>\n",
       "      <td>0.0</td>\n",
       "      <td>0.0</td>\n",
       "      <td>0.0</td>\n",
       "      <td>0.0</td>\n",
       "      <td>0.0</td>\n",
       "      <td>0.0</td>\n",
       "      <td>0.0</td>\n",
       "      <td>0.0</td>\n",
       "      <td>0.0</td>\n",
       "      <td>0.0</td>\n",
       "      <td>0.0</td>\n",
       "      <td>0.0</td>\n",
       "      <td>0.0</td>\n",
       "      <td>0.0</td>\n",
       "      <td>0.0</td>\n",
       "      <td>0.0</td>\n",
       "      <td>0.0</td>\n",
       "      <td>0.0</td>\n",
       "      <td>0.0</td>\n",
       "      <td>0.0</td>\n",
       "      <td>0.0</td>\n",
       "      <td>0.0</td>\n",
       "      <td>0.0</td>\n",
       "      <td>0.0</td>\n",
       "      <td>0.0</td>\n",
       "      <td>0.0</td>\n",
       "      <td>0.0</td>\n",
       "      <td>0.0</td>\n",
       "      <td>0.0</td>\n",
       "      <td>1.0</td>\n",
       "      <td>0.0</td>\n",
       "      <td>0.0</td>\n",
       "    </tr>\n",
       "    <tr>\n",
       "      <th>3</th>\n",
       "      <td>3</td>\n",
       "      <td>KNITTED UNION FLAG HOT WATER BOTTLE</td>\n",
       "      <td>6</td>\n",
       "      <td>3.39</td>\n",
       "      <td>17850.0</td>\n",
       "      <td>12</td>\n",
       "      <td>0.0</td>\n",
       "      <td>0.0</td>\n",
       "      <td>0.0</td>\n",
       "      <td>0.0</td>\n",
       "      <td>0.0</td>\n",
       "      <td>0.0</td>\n",
       "      <td>0.0</td>\n",
       "      <td>0.0</td>\n",
       "      <td>0.0</td>\n",
       "      <td>0.0</td>\n",
       "      <td>0.0</td>\n",
       "      <td>0.0</td>\n",
       "      <td>0.0</td>\n",
       "      <td>0.0</td>\n",
       "      <td>0.0</td>\n",
       "      <td>0.0</td>\n",
       "      <td>0.0</td>\n",
       "      <td>0.0</td>\n",
       "      <td>0.0</td>\n",
       "      <td>0.0</td>\n",
       "      <td>0.0</td>\n",
       "      <td>0.0</td>\n",
       "      <td>0.0</td>\n",
       "      <td>0.0</td>\n",
       "      <td>0.0</td>\n",
       "      <td>0.0</td>\n",
       "      <td>0.0</td>\n",
       "      <td>0.0</td>\n",
       "      <td>0.0</td>\n",
       "      <td>0.0</td>\n",
       "      <td>0.0</td>\n",
       "      <td>0.0</td>\n",
       "      <td>0.0</td>\n",
       "      <td>0.0</td>\n",
       "      <td>0.0</td>\n",
       "      <td>1.0</td>\n",
       "      <td>0.0</td>\n",
       "      <td>0.0</td>\n",
       "    </tr>\n",
       "  </tbody>\n",
       "</table>\n",
       "</div>"
      ],
      "text/plain": [
       "   Unnamed: 0                          Description  Quantity  UnitPrice  \\\n",
       "0           0   WHITE HANGING HEART T-LIGHT HOLDER         6       2.55   \n",
       "1           1                  WHITE METAL LANTERN         6       3.39   \n",
       "2           2       CREAM CUPID HEARTS COAT HANGER         8       2.75   \n",
       "3           3  KNITTED UNION FLAG HOT WATER BOTTLE         6       3.39   \n",
       "\n",
       "   CustomerID  Month  Australia  Austria  Bahrain  Belgium  Brazil  Canada  \\\n",
       "0     17850.0     12        0.0      0.0      0.0      0.0     0.0     0.0   \n",
       "1     17850.0     12        0.0      0.0      0.0      0.0     0.0     0.0   \n",
       "2     17850.0     12        0.0      0.0      0.0      0.0     0.0     0.0   \n",
       "3     17850.0     12        0.0      0.0      0.0      0.0     0.0     0.0   \n",
       "\n",
       "   Channel Islands  Cyprus  Czech Republic  Denmark  EIRE  European Community  \\\n",
       "0              0.0     0.0             0.0      0.0   0.0                 0.0   \n",
       "1              0.0     0.0             0.0      0.0   0.0                 0.0   \n",
       "2              0.0     0.0             0.0      0.0   0.0                 0.0   \n",
       "3              0.0     0.0             0.0      0.0   0.0                 0.0   \n",
       "\n",
       "   Finland  France  Germany  Greece  Iceland  Israel  Italy  Japan  Lebanon  \\\n",
       "0      0.0     0.0      0.0     0.0      0.0     0.0    0.0    0.0      0.0   \n",
       "1      0.0     0.0      0.0     0.0      0.0     0.0    0.0    0.0      0.0   \n",
       "2      0.0     0.0      0.0     0.0      0.0     0.0    0.0    0.0      0.0   \n",
       "3      0.0     0.0      0.0     0.0      0.0     0.0    0.0    0.0      0.0   \n",
       "\n",
       "   Lithuania  Malta  Netherlands  Norway  Poland  Portugal  RSA  Saudi Arabia  \\\n",
       "0        0.0    0.0          0.0     0.0     0.0       0.0  0.0           0.0   \n",
       "1        0.0    0.0          0.0     0.0     0.0       0.0  0.0           0.0   \n",
       "2        0.0    0.0          0.0     0.0     0.0       0.0  0.0           0.0   \n",
       "3        0.0    0.0          0.0     0.0     0.0       0.0  0.0           0.0   \n",
       "\n",
       "   Singapore  Spain  Sweden  Switzerland  USA  United Arab Emirates  \\\n",
       "0        0.0    0.0     0.0          0.0  0.0                   0.0   \n",
       "1        0.0    0.0     0.0          0.0  0.0                   0.0   \n",
       "2        0.0    0.0     0.0          0.0  0.0                   0.0   \n",
       "3        0.0    0.0     0.0          0.0  0.0                   0.0   \n",
       "\n",
       "   United Kingdom  Unspecified  Satisfaction  \n",
       "0             1.0          0.0           1.0  \n",
       "1             1.0          0.0           0.0  \n",
       "2             1.0          0.0           0.0  \n",
       "3             1.0          0.0           0.0  "
      ]
     },
     "execution_count": 8,
     "metadata": {},
     "output_type": "execute_result"
    }
   ],
   "source": [
    "df.head(4)"
   ]
  },
  {
   "cell_type": "markdown",
   "metadata": {},
   "source": [
    "### reference\n",
    "-------------------\n",
    "\n",
    "- [pandas cheat sheet](https://github.com/pandas-dev/pandas/tree/master/doc/cheatsheet)\n",
    "- [numpy cheat sheet(data camp)](https://www.datacamp.com/community/blog/python-numpy-cheat-sheet)\n",
    "- [scikit-learn cheat sheet(data camp)](datacamp.com/community/blog/scikit-learn-cheat-sheet)"
   ]
  },
  {
   "cell_type": "markdown",
   "metadata": {
    "id": "_RbelOPK4TFB"
   },
   "source": [
    "# modeling\n",
    "---------------------\n",
    "In this phase, various modeling techniques are selected and applied and their parameters are calibrated to optimal values. Typically, there are several techniques for the same data mining problem type. Some techniques have specific requirements on the form of data. Therefore, stepping back to the data preparation phase is often necessary."
   ]
  },
  {
   "cell_type": "markdown",
   "metadata": {
    "id": "Wfrdzmhe0Zfr"
   },
   "source": [
    "## select modeling techuique\n",
    "----------\n",
    "\n",
    "### task\n",
    "\n",
    "As the first step in modeling, select the actual modeling technique that is to be used. Whereas you possibly already selected a tool in business understanding, this task refers to the specific modeling technique, e.g.,decision tree building with C4.5 or neural network generation with back propagation. If multiple techniques are applied, perform this task for each technique separately.\n",
    "\n",
    "### output\n",
    "\n",
    "#### modeling technique\n",
    "\n",
    "Document the actual modeling technique that is to be used.\n",
    "\n",
    "#### modeling assumptions\n",
    "\n",
    "Many modeling techniques make specific assumptions on the data, e.g.,all attributes have uniform distributions, no missing values allowed, class attribute must be symbolic etc. Record any such assumptions made."
   ]
  },
  {
   "cell_type": "markdown",
   "metadata": {},
   "source": [
    "### Answer: select modeling technique\n",
    "#### modeling\n",
    "- Logical regression\n",
    "**Logistic regression** is used to predict probability of certain class (in our case class of most intresting products)\n",
    "#### modeling assumptions\n",
    "assumptions of Logistic regression:\n",
    "- No missing values allowed\n",
    "- all attributes are numbers\n",
    "- not require a linear relationship between the dependent and independent variables.  \n",
    "- Requier two classes (either 1 or 0)\n",
    "- independent observations"
   ]
  },
  {
   "cell_type": "markdown",
   "metadata": {
    "id": "MTt2pAHhr8Od",
    "tags": []
   },
   "source": [
    "## generate test design\n",
    "------------------\n",
    "\n",
    "### task\n",
    "\n",
    "Before we actually build a model, we need to generate a procedure or mechanism to test the model's quality and validity. For example, in supervised data mining tasks such as classification, it is common to use error rates as quality measures for data mining models. Therefore, we typically separate the dataset into train and test set, build the model on the train set and estimate its quality on the separate test set.\n",
    "\n",
    "### output\n",
    "\n",
    "Describe the intended plan for training, testing and evaluating the models. A primary component of the plan is to decide how to divide the available dataset into training data, test data and validation datasets.\n"
   ]
  },
  {
   "cell_type": "markdown",
   "metadata": {},
   "source": [
    "## Answer: generate test design\n",
    "For traning and testing data will be splited into train and test sets (80% for training, 20% for testing).\n",
    "As given problem is classification then ***accuracy, confusion matrix, recall and presision** as evaluation will be used."
   ]
  },
  {
   "cell_type": "markdown",
   "metadata": {
    "id": "SAEHAkLIsImG",
    "tags": []
   },
   "source": [
    "## build model\n",
    "----------\n",
    "\n",
    "### task\n",
    "\n",
    "Run the modeling tool on the prepared dataset to create one or more models.\n",
    "\n",
    "### output\n",
    "\n",
    "#### parameter settings \n",
    "\n",
    "With any modeling tool, there are often a large number of parameters that can be adjusted. List the parameters and their chosen value, along with the rationale for the choice of parameter settings. \n",
    "\n",
    "#### models \n",
    "\n",
    "These are the actual models produced by the modeling tool, not a report.\n",
    "\n",
    "#### model description\n",
    "\n",
    "describe the resultant model. Report on the interpretation of the models and document any difficulties encountered with their meanings.\n"
   ]
  },
  {
   "cell_type": "markdown",
   "metadata": {},
   "source": [
    "## Answer: build model\n",
    "### parameter settings\n",
    "- [x] max_iter:100\n",
    "- [ ] penalty: none,**l2**\n",
    "- [ ] C: 0.5,**1**,2\n",
    "- [x] solver: **sag** saga ‘newton-cg\n",
    "### models\n",
    "From Ligistic regression predictions of products with `satisfaction` >0.47 expected (marked as class 1)\n",
    "### model description\n",
    "As result given predictions can be used to predict relevant product for some country during given month. with query shown bellow"
   ]
  },
  {
   "cell_type": "code",
   "execution_count": 9,
   "metadata": {},
   "outputs": [],
   "source": [
    "\n",
    "X,y = df.drop(['Satisfaction','Description','Unnamed: 0'],axis=1),df['Satisfaction']"
   ]
  },
  {
   "cell_type": "code",
   "execution_count": 10,
   "metadata": {},
   "outputs": [],
   "source": [
    "# split data\n",
    "\n",
    "## random split\n",
    "from sklearn.model_selection import train_test_split\n",
    "X_train, X_test, y_train, y_test = train_test_split(X, y,test_size=0.2,random_state=42,stratify=y)"
   ]
  },
  {
   "cell_type": "markdown",
   "metadata": {
    "tags": []
   },
   "source": [
    "### regression\n",
    "-------------"
   ]
  },
  {
   "cell_type": "markdown",
   "metadata": {
    "tags": []
   },
   "source": [
    "### classification\n",
    "------------"
   ]
  },
  {
   "cell_type": "markdown",
   "metadata": {},
   "source": [
    "#### imbalanced data"
   ]
  },
  {
   "cell_type": "code",
   "execution_count": 11,
   "metadata": {},
   "outputs": [],
   "source": [
    "# imbalanced data: https://www.analyticsvidhya.com/blog/2020/07/10-techniques-to-deal-with-class-imbalance-in-machine-learning/\n",
    "## random under sampler\n",
    "#from imblearn.under_sampling import RandomUnderSampler\n",
    "#sampler = RandomUnderSampler()\n",
    "\n",
    "# random over sampler\n",
    "from imblearn.over_sampling import RandomOverSampler\n",
    "sampler = RandomOverSampler()\n",
    "\n",
    "## SMOTE\n",
    "#from imblearn.over_sampling import SMOTE\n",
    "#sampler = SMOTE()\n",
    "\n",
    "## TomekLinks\n",
    "#from imblearn.under_sampling import TomekLinks\n",
    "#sampler = TomekLinks()\n",
    "\n",
    "## NearMiss\n",
    "#from imblearn.under_sampling import NearMiss\n",
    "#sampler = NearMiss()\n",
    "\n",
    "## sampling\n",
    "X_train, y_train = sampler.fit_resample(X_train, y_train)"
   ]
  },
  {
   "cell_type": "markdown",
   "metadata": {
    "tags": []
   },
   "source": [
    "#### modeling"
   ]
  },
  {
   "cell_type": "code",
   "execution_count": 12,
   "metadata": {},
   "outputs": [],
   "source": [
    "#Ligistic Regression\n",
    "from sklearn.linear_model import LogisticRegression\n",
    "model = LogisticRegression(max_iter=100,solver='sag')\n",
    "model.fit(X_train, y_train)\n",
    "y_pred = model.predict(X_test)"
   ]
  },
  {
   "cell_type": "code",
   "execution_count": null,
   "metadata": {},
   "outputs": [],
   "source": [
    "# SVM\n",
    "#from sklearn.svm import SVC\n",
    "#model = SVC(kernel='linear', random_state=None)\n",
    "#model.fit(X_train, y_train)\n",
    "#y_pred = model.predict(X_test)"
   ]
  },
  {
   "cell_type": "code",
   "execution_count": null,
   "metadata": {},
   "outputs": [],
   "source": [
    "# LightGBM\n",
    "#!pip install optuna\n",
    "# import optuna.integration.lightgbm as lgb\n",
    "# lgb_train = lgb.Dataset(X_train, y_train)\n",
    "# lgb_eval = lgb.Dataset(X_test, y_test, reference=lgb_train)\n",
    "# params = {\n",
    "#     \"objective\" : \"multiclass\",\n",
    "#     \"metric\" : \"multi_logloss\",\n",
    "#     \"num_class\" : len(y.unique())\n",
    "# }\n",
    "# model = lgb.train(params, lgb_train, valid_sets=lgb_eval)\n",
    "# y_prob = model.predict(X_test, num_iteration=model.best_iteration)\n",
    "# y_pred = np.argmax(y_prob, axis=1)"
   ]
  },
  {
   "cell_type": "code",
   "execution_count": 13,
   "metadata": {},
   "outputs": [
    {
     "data": {
      "text/plain": [
       "['RETROSPOT PARTY BAG + STICKER SET',\n",
       " 'SMALL RED RETROSPOT WINDMILL',\n",
       " 'PANTRY PASTRY BRUSH',\n",
       " 'WHITE SPOT BLUE CERAMIC DRAWER KNOB',\n",
       " 'SET/6 FRUIT SALAD PAPER CUPS',\n",
       " '12 PENCILS TALL TUBE WOODLAND',\n",
       " 'CERAMIC BOWL WITH LOVE HEART DESIGN',\n",
       " 'PACK OF 6 SKULL PAPER PLATES',\n",
       " 'PLASTERS IN TIN STRONGMAN',\n",
       " 'SET OF 72 RETROSPOT PAPER  DOILIES',\n",
       " 'PLASTERS IN TIN WOODLAND ANIMALS',\n",
       " 'STRAWBERRY CERAMIC TRINKET BOX',\n",
       " 'PLASTERS IN TIN WOODLAND ANIMALS',\n",
       " 'WHITE SPOT RED CERAMIC DRAWER KNOB',\n",
       " 'WRAP RED APPLES ',\n",
       " 'WRAP CIRCUS PARADE',\n",
       " 'RED STRIPE CERAMIC DRAWER KNOB',\n",
       " 'RED KITCHEN SCALES',\n",
       " 'STRAWBERRY CERAMIC TRINKET BOX',\n",
       " 'DOLLY GIRL CHILDRENS EGG CUP',\n",
       " 'SET/20 RED RETROSPOT PAPER NAPKINS ',\n",
       " 'HAPPY STENCIL CRAFT',\n",
       " 'BUNNY WOODEN PAINTED WITH BIRD ',\n",
       " 'EASTER TIN CHICKS IN GARDEN',\n",
       " 'TRAVEL CARD WALLET PANTRY',\n",
       " 'PANTRY SCRUBBING BRUSH',\n",
       " 'WALL TIDY RETROSPOT ',\n",
       " 'BIG DOUGHNUT FRIDGE MAGNETS',\n",
       " 'GIN AND TONIC MUG',\n",
       " 'RED TOADSTOOL LED NIGHT LIGHT',\n",
       " 'PACK OF 6 SKULL PAPER CUPS',\n",
       " 'TRAVEL CARD WALLET RETRO PETALS',\n",
       " 'DOLLY HONEYCOMB GARLAND',\n",
       " 'TOOTHPASTE TUBE PEN',\n",
       " 'MONSTERS STENCIL CRAFT',\n",
       " 'SET 2 PANTRY DESIGN TEA TOWELS',\n",
       " 'VINTAGE HEADS AND TAILS CARD GAME ',\n",
       " 'VICTORIAN GLASS HANGING T-LIGHT',\n",
       " 'PACK OF 20 NAPKINS PANTRY DESIGN',\n",
       " 'BLUE POLKADOT COFFEE MUG',\n",
       " '10 COLOUR SPACEBOY PEN',\n",
       " 'PACK OF 12 RED RETROSPOT TISSUES ',\n",
       " 'LIPSTICK PEN BABY PINK',\n",
       " 'RETROSPOT HEART HOT WATER BOTTLE',\n",
       " 'WRAP SUKI AND FRIENDS',\n",
       " 'WRAP POPPIES  DESIGN',\n",
       " 'TEA PARTY BIRTHDAY CARD',\n",
       " 'FELT FARM ANIMAL WHITE BUNNY ',\n",
       " 'SET/10 PINK POLKADOT PARTY CANDLES',\n",
       " 'FEATHER PEN,HOT PINK',\n",
       " 'PURPLE DRAWERKNOB ACRYLIC EDWARDIAN',\n",
       " 'ROUND CONTAINER SET OF 5 RETROSPOT',\n",
       " 'BLUE POLKADOT PLATE ',\n",
       " 'CHILDS GARDEN TROWEL BLUE ',\n",
       " 'JAM JAR WITH PINK LID',\n",
       " 'BLUE STRIPE CERAMIC DRAWER KNOB',\n",
       " 'JAM JAR WITH GREEN LID',\n",
       " '6 RIBBONS RUSTIC CHARM',\n",
       " 'EMERGENCY FIRST AID TIN ',\n",
       " 'RED TOADSTOOL LED NIGHT LIGHT',\n",
       " 'COFFEE MUG APPLES DESIGN',\n",
       " 'ROUND CONTAINER SET OF 5 RETROSPOT',\n",
       " 'SPACEBOY LUNCH BOX ',\n",
       " 'WRAP DOILEY DESIGN',\n",
       " 'REGENCY CAKESTAND 3 TIER']"
      ]
     },
     "execution_count": 13,
     "metadata": {},
     "output_type": "execute_result"
    }
   ],
   "source": [
    "prediction = pd.concat([df.loc[y_test.index],pd.DataFrame(y_pred,columns=['pred'],index=y_test.index)],axis=1)\n",
    "m1 = prediction['Germany']==1\n",
    "m2 = prediction['Month']==3\n",
    "m3 = prediction['pred']==1\n",
    "mask = pd.concat([m1,m2,m3],axis=1).all(axis=1)\n",
    "prediction[mask]['Description'].to_list()"
   ]
  },
  {
   "cell_type": "code",
   "execution_count": 14,
   "metadata": {},
   "outputs": [],
   "source": [
    "prediction.to_csv('./data/prediction.csv')"
   ]
  },
  {
   "cell_type": "markdown",
   "metadata": {},
   "source": [
    "## Tuning"
   ]
  },
  {
   "cell_type": "code",
   "execution_count": 15,
   "metadata": {},
   "outputs": [
    {
     "name": "stdout",
     "output_type": "stream",
     "text": [
      "{'C': 0.5, 'max_iter': 90, 'penalty': 'l2', 'solver': 'sag'}\n"
     ]
    }
   ],
   "source": [
    "from sklearn.model_selection import GridSearchCV\n",
    "param_grid = {'max_iter':[120,90], 'penalty': ['none','l2'], 'C': [0.5, 2], 'solver': ['sag', 'saga']}\n",
    "#param_grid = {'max_iter':[120,90], 'solver': ['sag', 'saga']}\n",
    "gs = GridSearchCV(LogisticRegression(), param_grid)\n",
    "gs.fit(X_train, y_train)\n",
    "print(gs.best_params_)\n",
    "y_best_pred = gs.predict(X_test)"
   ]
  },
  {
   "cell_type": "code",
   "execution_count": 16,
   "metadata": {},
   "outputs": [],
   "source": [
    "best_model = gs.best_estimator_"
   ]
  },
  {
   "cell_type": "code",
   "execution_count": 17,
   "metadata": {},
   "outputs": [
    {
     "name": "stdout",
     "output_type": "stream",
     "text": [
      "['RETROSPOT PARTY BAG + STICKER SET', 'SMALL RED RETROSPOT WINDMILL', 'PANTRY PASTRY BRUSH', 'WHITE SPOT BLUE CERAMIC DRAWER KNOB', 'SET/6 FRUIT SALAD PAPER CUPS', '12 PENCILS TALL TUBE WOODLAND', 'CERAMIC BOWL WITH LOVE HEART DESIGN', 'PACK OF 6 SKULL PAPER PLATES', 'PLASTERS IN TIN STRONGMAN', 'SET OF 72 RETROSPOT PAPER  DOILIES', 'PLASTERS IN TIN WOODLAND ANIMALS', 'STRAWBERRY CERAMIC TRINKET BOX', 'PLASTERS IN TIN WOODLAND ANIMALS', 'WHITE SPOT RED CERAMIC DRAWER KNOB', 'WRAP RED APPLES ', 'WRAP CIRCUS PARADE', 'RED STRIPE CERAMIC DRAWER KNOB', 'RED KITCHEN SCALES', 'STRAWBERRY CERAMIC TRINKET BOX', 'DOLLY GIRL CHILDRENS EGG CUP', 'SET/20 RED RETROSPOT PAPER NAPKINS ', 'HAPPY STENCIL CRAFT', 'BUNNY WOODEN PAINTED WITH BIRD ', 'EASTER TIN CHICKS IN GARDEN', 'TRAVEL CARD WALLET PANTRY', 'PANTRY SCRUBBING BRUSH', 'WALL TIDY RETROSPOT ', 'BIG DOUGHNUT FRIDGE MAGNETS', 'GIN AND TONIC MUG', 'RED TOADSTOOL LED NIGHT LIGHT', 'PACK OF 6 SKULL PAPER CUPS', 'TRAVEL CARD WALLET RETRO PETALS', 'DOLLY HONEYCOMB GARLAND', 'TOOTHPASTE TUBE PEN', 'MONSTERS STENCIL CRAFT', 'VINTAGE HEADS AND TAILS CARD GAME ', 'VICTORIAN GLASS HANGING T-LIGHT', 'PACK OF 20 NAPKINS PANTRY DESIGN', 'BLUE POLKADOT COFFEE MUG', '10 COLOUR SPACEBOY PEN', 'PACK OF 12 RED RETROSPOT TISSUES ', 'LIPSTICK PEN BABY PINK', 'RETROSPOT HEART HOT WATER BOTTLE', 'WRAP SUKI AND FRIENDS', 'WRAP POPPIES  DESIGN', 'TEA PARTY BIRTHDAY CARD', 'FELT FARM ANIMAL WHITE BUNNY ', 'SET/10 PINK POLKADOT PARTY CANDLES', 'FEATHER PEN,HOT PINK', 'PURPLE DRAWERKNOB ACRYLIC EDWARDIAN', 'ROUND CONTAINER SET OF 5 RETROSPOT', 'BLUE POLKADOT PLATE ', 'CHILDS GARDEN TROWEL BLUE ', 'JAM JAR WITH PINK LID', 'BLUE STRIPE CERAMIC DRAWER KNOB', 'JAM JAR WITH GREEN LID', '6 RIBBONS RUSTIC CHARM', 'EMERGENCY FIRST AID TIN ', 'RED TOADSTOOL LED NIGHT LIGHT', 'COFFEE MUG APPLES DESIGN', 'ROUND CONTAINER SET OF 5 RETROSPOT', 'SPACEBOY LUNCH BOX ', 'WRAP DOILEY DESIGN', 'REGENCY CAKESTAND 3 TIER']\n"
     ]
    }
   ],
   "source": [
    "prediction1 = pd.concat([df.loc[y_test.index],pd.DataFrame(y_best_pred,columns=['pred'],index=y_test.index)],axis=1)\n",
    "m1 = prediction1['Germany']==1\n",
    "m2 = prediction1['Month']==3\n",
    "m3 = prediction1['pred']==1\n",
    "mask = pd.concat([m1,m2,m3],axis=1).all(axis=1)\n",
    "print(prediction[mask]['Description'].to_list())\n",
    "prediction1.to_csv('./data/prediction_best.csv')"
   ]
  },
  {
   "cell_type": "markdown",
   "metadata": {
    "id": "NLwXOV0Tsgzi"
   },
   "source": [
    "## assess model\n",
    "-------------\n",
    "\n",
    "### task\n",
    "\n",
    "The data mining engineer interprets the models according to his domain knowledge, the data mining success criteria and the desired test design. This task interferes with the subsequent evaluation phase. Whereas the data mining engineer judges the success of the application of modeling and discovery techniques more technically, he contacts business analysts and domain experts later in order to discuss the data mining results in the business context. Moreover, this task only considers models whereas the evaluation phase also takes into account all other results that were produced in the course of the project. The data mining engineer tries to rank the models. He assesses the models according to the evaluation criteria. As far as possible he also takes into account business objectives and business success criteria. In most data mining projects, the data mining engineer applies a single technique more than once or generates data mining results with different alternative techniques. In this task, he also compares all results according to the evaluation criteria.\n",
    "\n",
    "### output\n",
    "\n",
    "#### model assessment\n",
    "\n",
    "Summarize results of this task, list qualities of generated models (e.g.,in terms of accuracy) and rank their quality in relation to each other. \n",
    "\n",
    "#### revised parameter settings\n",
    "\n",
    "According to the model assessment, revise parameter settings and tune them for the next run in the Build Model task. Iterate model building and assessment until you strongly believe that you found the best model(s). Document all such revisions and assessments.\n"
   ]
  },
  {
   "cell_type": "markdown",
   "metadata": {},
   "source": [
    "## Model assessment\n",
    "Performance of initial model (parameters shown above) was measured as:\n",
    "- accuracy `79%`\n",
    "- confusion matrix\n",
    "\\begin{bmatrix}\n",
    "60991 & 12368\\\\\n",
    "4328 & 2350 \n",
    "\\end{bmatrix}\n",
    "\n",
    "- precision 0.1596684332110341\n",
    "- recall 0.35190176699610665\n",
    "## revised parameter settings\n",
    "Following parameters will be tuned\n",
    "- max_iter:[100,120,130,135]\n",
    "- penalty: [none,l2]\n",
    "- C: [0.5,1,2]\n",
    "- solver: ['sag' 'saga', ‘newton-cg']"
   ]
  },
  {
   "cell_type": "markdown",
   "metadata": {},
   "source": [
    "### regression\n",
    "-----------------"
   ]
  },
  {
   "cell_type": "code",
   "execution_count": null,
   "metadata": {},
   "outputs": [],
   "source": []
  },
  {
   "cell_type": "markdown",
   "metadata": {},
   "source": [
    "### classification\n",
    "----------------\n"
   ]
  },
  {
   "cell_type": "code",
   "execution_count": 18,
   "metadata": {},
   "outputs": [
    {
     "name": "stdout",
     "output_type": "stream",
     "text": [
      "8e+01%\n"
     ]
    }
   ],
   "source": [
    "# accuracy\n",
    "from sklearn.metrics import accuracy_score\n",
    "accuracy = accuracy_score(y_test, y_pred)\n",
    "print(str('{:.1g}'.format(accuracy * 100)) + '%')"
   ]
  },
  {
   "cell_type": "code",
   "execution_count": 19,
   "metadata": {},
   "outputs": [
    {
     "name": "stdout",
     "output_type": "stream",
     "text": [
      "79%\n"
     ]
    }
   ],
   "source": [
    "print(str(int(accuracy*100))+'%')"
   ]
  },
  {
   "cell_type": "code",
   "execution_count": 20,
   "metadata": {},
   "outputs": [
    {
     "name": "stdout",
     "output_type": "stream",
     "text": [
      "[[60908 12451]\n",
      " [ 4319  2359]]\n"
     ]
    },
    {
     "data": {
      "image/png": "[encoded data removed]",
      "text/plain": [
       "<Figure size 432x288 with 2 Axes>"
      ]
     },
     "metadata": {
      "needs_background": "light"
     },
     "output_type": "display_data"
    }
   ],
   "source": [
    "# confusion matrix\n",
    "from sklearn.metrics import confusion_matrix, plot_confusion_matrix\n",
    "cm = confusion_matrix(y_test, y_pred)\n",
    "print(cm)\n",
    "plot_confusion_matrix(model,X_test,y_true=y_test)\n",
    "plt.show()"
   ]
  },
  {
   "cell_type": "code",
   "execution_count": 21,
   "metadata": {},
   "outputs": [
    {
     "name": "stdout",
     "output_type": "stream",
     "text": [
      "precision 0.15928426738690074\n",
      "recall 0.3532494758909853\n"
     ]
    }
   ],
   "source": [
    "from sklearn.metrics import precision_score, recall_score\n",
    "print(f\"precision {precision_score(y_test,y_pred)}\")\n",
    "print(f\"recall {recall_score(y_test,y_pred)}\")"
   ]
  },
  {
   "cell_type": "code",
   "execution_count": 22,
   "metadata": {},
   "outputs": [
    {
     "name": "stdout",
     "output_type": "stream",
     "text": [
      "Results for best model\n",
      "79%\n",
      "[[61132 12227]\n",
      " [ 4339  2339]]\n"
     ]
    },
    {
     "data": {
      "image/png": "[encoded data removed]",
      "text/plain": [
       "<Figure size 432x288 with 2 Axes>"
      ]
     },
     "metadata": {
      "needs_background": "light"
     },
     "output_type": "display_data"
    },
    {
     "name": "stdout",
     "output_type": "stream",
     "text": [
      "precision 0.16057943155293147\n",
      "recall 0.3502545672356993\n"
     ]
    }
   ],
   "source": [
    "print(\"Results for best model\")\n",
    "accuracy = accuracy_score(y_test, y_best_pred)\n",
    "print(str(int(accuracy*100))+'%')\n",
    "cm = confusion_matrix(y_test, y_best_pred)\n",
    "print(cm)\n",
    "plot_confusion_matrix(best_model,X_test,y_true=y_test)\n",
    "plt.show()\n",
    "print(f\"precision {precision_score(y_test,y_best_pred)}\")\n",
    "print(f\"recall {recall_score(y_test,y_best_pred)}\")"
   ]
  },
  {
   "cell_type": "markdown",
   "metadata": {
    "id": "-u6lu6ep4EgC"
   },
   "source": [
    "## note/questions\n",
    "-------------\n",
    "\n",
    "#### select modeling technique\n",
    "\n",
    "#### generate test design\n",
    "\n",
    "#### build model\n",
    "\n",
    "#### assess model\n"
   ]
  },
  {
   "cell_type": "code",
   "execution_count": null,
   "metadata": {
    "id": "77gTgxgz4PYQ"
   },
   "outputs": [],
   "source": []
  }
 ],
 "metadata": {
  "colab": {
   "authorship_tag": "ABX9TyMQn80GKbpYhOi2XJA3cST3",
   "collapsed_sections": [],
   "name": "modeling.ipynb",
   "provenance": []
  },
  "kernelspec": {
   "display_name": "Python 3 (ipykernel)",
   "language": "python",
   "name": "python3"
  },
  "language_info": {
   "codemirror_mode": {
    "name": "ipython",
    "version": 3
   },
   "file_extension": ".py",
   "mimetype": "text/x-python",
   "name": "python",
   "nbconvert_exporter": "python",
   "pygments_lexer": "ipython3",
   "version": "3.8.8"
  }
 },
 "nbformat": 4,
 "nbformat_minor": 4
}
