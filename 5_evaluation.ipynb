{
 "cells": [
  {
   "cell_type": "code",
   "execution_count": null,
   "metadata": {
    "id": "pzImNeOjy4jZ"
   },
   "outputs": [],
   "source": [
    "# import libraries\n",
    "import pandas as pd\n",
    "import numpy as np"
   ]
  },
  {
   "cell_type": "markdown",
   "metadata": {
    "id": "_RbelOPK4TFB",
    "jp-MarkdownHeadingCollapsed": true,
    "tags": []
   },
   "source": [
    "# evaluation\n",
    "---------------------\n",
    "At this stage in the project you have built a model (or models) that appears to have high quality from a data analysis perspective. Before proceeding to final deployment of the model, it is important to more thoroughly evaluate the model and review the steps executed to construct the model to be certain it properly achieves the business objectives. A key objective is to determine if there is some important business issue that has not been sufficiently considered. At the end of this phase, a decision on the use of the data mining results should be reached."
   ]
  },
  {
   "cell_type": "markdown",
   "metadata": {
    "id": "SAEHAkLIsImG"
   },
   "source": [
    "## evaluate result\n",
    "----------\n",
    "\n",
    "### task\n",
    "\n",
    "Previous evaluation steps dealt with factors such as the accuracy and generality of the model. This step assesses the degree to which the model meets the business objectives and seeks to determine if there is some business reason why this model is deficient. Another option of evaluation is to test the model(s) on test applications in the real application if time and budget constraints permit.\n",
    "\n",
    "Moreover, evaluation also assesses other data mining results generated. Data mining results cover models which are necessarily related to the original business objectives and all other findings which are not necessarily related to the original business objectives but might also unveil additional challenges, information or hints for future directions.\n",
    "\n",
    "### output\n",
    "\n",
    "#### assessment of data mining results with respect to business success criteria \n",
    "\n",
    "Summarize assessment results in terms of business success criteria including a final statement whether the project already meets the initial business objectives.\n",
    "\n",
    "#### approved models \n",
    "\n",
    "After model assessment with respect to business success criteria, the gen-erated models that meet the selected criteria become approved models.\n"
   ]
  },
  {
   "cell_type": "markdown",
   "metadata": {
    "id": "MTt2pAHhr8Od"
   },
   "source": [
    "## review process\n",
    "------------------\n",
    "\n",
    "### task\n",
    "\n",
    "At this point the resultant model hopefully appears to be satisfactory and to satisfy business needs. It is now appropriate to do a more thorough review of the data mining engagement in order to determine if there is any important factor or task that has somehow been overlooked. This review also covers quality assurance issues, e.g., did we correctly build the model? Did we only use attributes that we are allowed to use and that are available for future analyses?\n",
    "\n",
    "### output\n",
    "\n",
    "Summarize the process review and highlight activities that have been missed and/or should be repeated. \n"
   ]
  },
  {
   "cell_type": "markdown",
   "metadata": {
    "id": "Wfrdzmhe0Zfr"
   },
   "source": [
    "## determine next steps\n",
    "----------\n",
    "\n",
    "### task\n",
    "\n",
    "According to the assessment results and the process review, the project decides how to proceed at this stage. The project needs to decide whether to finish this project and move on to deployment if appropriate or whether to initiate further iterations or set up new data mining projects. This task includes analyses of remaining resources and budget that influences the decisions.\n",
    "\n",
    "### output\n",
    "\n",
    "#### list of possible actions \n",
    "\n",
    "List the potential further actions along with the reasons for and against each option.\n",
    "\n",
    "#### Decision \n",
    "\n",
    "Describe the decision as to how to proceed along with the rationale.\n"
   ]
  },
  {
   "cell_type": "markdown",
   "metadata": {
    "id": "-u6lu6ep4EgC",
    "tags": []
   },
   "source": [
    "# note/questions\n",
    "-------------\n",
    "\n",
    "#### evaluate model\n",
    "\n",
    "#### review process\n",
    "\n",
    "#### determine next step\n"
   ]
  },
  {
   "cell_type": "markdown",
   "metadata": {
    "tags": []
   },
   "source": [
    "### Evaluate result\n",
    "#### assessment of data mining results with respect to business success criteria\n",
    "This model allow retailer recive advices about most relevant goods based on contry and month. This model try to give advices about relevant goods every month. Which sutisfy business goals: learn more about clients, control customers' requests and satisfy them, suggest most relevant goods and earn higher income.\n",
    "#### approved models\n",
    "As previous section show, model satisfy business goals. Thus generated model is **approved**"
   ]
  },
  {
   "cell_type": "markdown",
   "metadata": {
    "tags": []
   },
   "source": [
    "### Answer review process\n",
    "During data preparation stage description was not used, so preparation and modeling stage  should be repeated with description processing.\n",
    "\n",
    "During modeling stage only Logistic Regression was used, this stage should be repeated with other models (ex: Naïve Bayes Classifier)\n",
    "\n",
    "Finally, datapreparation stage and modeling stage should be completed again to extract more data from dataset and evaluate other mode."
   ]
  },
  {
   "cell_type": "markdown",
   "metadata": {
    "tags": []
   },
   "source": [
    "### determine next steps\n",
    "#### list of possible actions\n",
    "- apply NLP model to extract data from text\n",
    "\n",
    "    `+` \n",
    "    - more information about product\n",
    "        \n",
    "    - some category of product more popular in some time period or country. Thus ML models need to be able to process it.\n",
    "    - more information for modeling\n",
    "    \n",
    "    `-` \n",
    "    - requier more time\n",
    "    - may bring higher error\n",
    "    \n",
    "- apply other ML models\n",
    "    \n",
    "    `+`\n",
    "    - we may found more suitable model.\n",
    "    \n",
    "    `-` \n",
    "    - requier more time\n",
    "\n",
    "#### Decisicion\n",
    "As both actions brings more advantages, it will be better to **complete all actions**: extract data from description, check other ML models."
   ]
  }
 ],
 "metadata": {
  "colab": {
   "authorship_tag": "ABX9TyN56UHBHmrfaXFDkddTWCbb",
   "collapsed_sections": [],
   "name": "evaluation.ipynb",
   "provenance": []
  },
  "kernelspec": {
   "display_name": "Python 3 (ipykernel)",
   "language": "python",
   "name": "python3"
  },
  "language_info": {
   "codemirror_mode": {
    "name": "ipython",
    "version": 3
   },
   "file_extension": ".py",
   "mimetype": "text/x-python",
   "name": "python",
   "nbconvert_exporter": "python",
   "pygments_lexer": "ipython3",
   "version": "3.8.8"
  }
 },
 "nbformat": 4,
 "nbformat_minor": 4
}
