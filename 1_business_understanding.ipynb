{
 "cells": [
  {
   "cell_type": "markdown",
   "metadata": {
    "id": "_RbelOPK4TFB",
    "jp-MarkdownHeadingCollapsed": true,
    "tags": []
   },
   "source": [
    "# business understanding\n",
    "------------\n",
    "\n",
    "This initial phase focuses on understanding the project objectives and requirements from a business perspective, then converting this knowledge into a data mining problem definition and a preliminary plan designed to achieve the objectives.\n"
   ]
  },
  {
   "cell_type": "markdown",
   "metadata": {
    "id": "Wfrdzmhe0Zfr",
    "tags": []
   },
   "source": [
    "## determine business objectives\n",
    "----------\n",
    "\n",
    "### task\n",
    "\n",
    "The first objective of the data analyst is to thoroughly understand, from a business perspective, what the client really wants to accomplish. Often the client has many competing objectives and constraints that must be properly balanced. The analyst's goal is to uncover important factors, at the beginning, that can influence the outcome of the project. A possible consequence of neglecting this step is to expend a great deal of effort producing the right answers to the wrong questions.\n",
    "\n",
    "### output\n",
    "\n",
    "#### background\n",
    "\n",
    "Record the information that is known about the organization's business situation at the beginning of the project.\n",
    "\n",
    "#### business objectives \n",
    "\n",
    "Describe the customer's primary objective, from a business perspective. In addition to the primary business objective, there are typically other related business questions that the customer would like to address. For example, the primary business goal might be to keep current customers by predicting when they are prone to move to a competitor. Examples of related business questions are \"How does the primary channel (e.g., ATM, visit branch, internet) a bank customer uses affect whether they stay or go?\" or \"Will lower ATM fees significantly reduce the number of high-value customers who leave?\"\n",
    "\n",
    "#### business success criteria \n",
    "\n",
    "Describe the criteria for a successful or useful outcome to the project from the business point of view. This might be quite specific and able to be measured objectively, such as reduction of customer churn to a certain level or general and subjective such as \"give useful insights into the relationships.\" In the latter case it should be indicated who makes the subjective judgment.\n"
   ]
  },
  {
   "cell_type": "markdown",
   "metadata": {
    "id": "AZCQA0YfF1Yq",
    "tags": []
   },
   "source": [
    "## assess situation\n",
    "-------------\n",
    "\n",
    "### task\n",
    "\n",
    "This task involves more detailed fact-finding about all of the resources,constraints, assumptions and other factors that should be considered in determining the data analysis goal and project plan. In the previous task, your objective is to quickly get to the crux of the situation. Here, you want to flesh out the details.\n",
    "\n",
    "### output\n",
    "\n",
    "#### inventory of resources\n",
    "\n",
    "List the resources available to the project, including: personnel (business experts, data experts, technical support, data mining personnel), data (fixed extracts, access to live warehoused or operational data), computing resources (hardware platforms) and software (data miningtools, other relevant software).\n",
    "\n",
    "#### requirements, assumptions and constraints\n",
    "\n",
    "List all requirements of the project including schedule of completion, comprehensibility and quality of results and security as well as legal issues.As part of this output, make sure that you are allowed to use the data. List the assumptions made by the project. \n",
    "\n",
    "These may be assumptions about the data that can be checked during data mining, but may also include non-checkable assumptions about the business upon which the project rests. It is particularly important to list the latter if they form conditions on the validity of the results.\n",
    "\n",
    "List the constraints on the project. These may be constraints on the availability of resources, but may also include technological constraints such as the size of data that it is practical to use for modeling.\n",
    "\n",
    "#### Risks and contingencies \n",
    "\n",
    "List the risks or events that might occur to delay the project or cause it to fail. List the corresponding contingency plans; what action will be taken if the risks happen.\n",
    "\n",
    "#### Terminology\n",
    "\n",
    "Compile a glossary of terminology relevant to the project. This may include two components: \n",
    "(1) A glossary of relevant business terminology, which forms part of the business understanding available to the project. Constructing this glossary is a useful \"knowledge elicitation\" and education exercise.\n",
    "(2) A glossary of data mining terminology, illustrated with examples relevant to the business problem in question.\n",
    "\n",
    "#### Costs and benefits\n",
    "\n",
    "Construct a cost-benefit analysis for the project, which compares the costs of the project with the potential benefit to the business if it is successful. The comparison should be as specific as possible, for example using monetary measures in a commercial situation.\n"
   ]
  },
  {
   "cell_type": "markdown",
   "metadata": {
    "id": "ly5EriVtGwfJ"
   },
   "source": [
    "## determine data mining goals\n",
    "-----------\n",
    "\n",
    "### task\n",
    "\n",
    "A business goal states objectives in business terminology. A data mining goal states project objectives in technical terms. For example, the business goal might be \"Increase catalog sales to existing customers.\" A data mining goal might be \"Predict how many widgets a customer will buy, given their purchases over the past three years, demographic information (age, salary, city, etc.) and the price of the item.\"\n",
    "\n",
    "### output\n",
    "\n",
    "#### data mining goals\n",
    "\n",
    "Describe the intended outputs of the project that enables the achievement of the business objectives.\n",
    "\n",
    "#### data mining success criteria\n",
    "\n",
    "Define the criteria for a successful outcome to the project in technical terms, for example a certain level of predictive accuracy or a propensity to purchase profile with a given degree of \"lift.\" As with business success criteria, it may be necessary to describe these in subjective terms, in which case the person or persons making the subjective judgment should be identified.\n"
   ]
  },
  {
   "cell_type": "markdown",
   "metadata": {
    "id": "VNBGjF_bHUiU",
    "tags": [],
    "toc-hr-collapsed": true
   },
   "source": [
    "## produce project plan\n",
    "----------------\n",
    "\n",
    "### task\n",
    "\n",
    "Describe the intended plan for achieving the data mining goals and thereby achieving the business goals. The plan should specify the anticipated set of steps to be performed during the rest of the project including an initial selection of tools and techniques.\n",
    "\n",
    "### output\n",
    "\n",
    "#### project plan\n",
    "\n",
    "List the stages to be executed in the project, together with duration, resources required, inputs, outputs and dependencies. Where possible make explicit the large-scale iterations in the data mining process, for example repetitions of the modeling and evaluation phases. As part of the project plan, it is also important to analyze dependencies between time schedule and risks. Mark results of these analyses explicitly in the project plan, ideally with actions and recommendations if the risks appear.\n",
    "\n",
    "Note: the project plan contains detailed plans for each phase. For example, decide at this point which evaluation strategy will be used in the evaluation phase. The project plan is a dynamic document in the sense that at the end of each phase a review of progress and achievements is necessary and an update of the project plan accordingly is recommended. Specific review points for these reviews are part of the project plan, too.\n",
    "\n",
    "#### initial assessment of tools and techniques\n",
    "\n",
    "At the end of the first phase, the project also performs an initial assessment of tools and techniques. Here, you select a data mining tool that supports various methods for different stages of the process, for example. It is important to assess tools and techniques early in the process since the selection of tools and techniques possibly influences the entire project.\n"
   ]
  },
  {
   "cell_type": "markdown",
   "metadata": {
    "id": "-u6lu6ep4EgC",
    "tags": []
   },
   "source": [
    "# note/questions\n",
    "-------------\n",
    "\n",
    "- determine business objectives\n",
    "\n",
    "- assess situation\n",
    "\n",
    "- determine data mining goals\n",
    "\n",
    "- produce project plan\n"
   ]
  },
  {
   "cell_type": "markdown",
   "metadata": {
    "id": "77gTgxgz4PYQ",
    "tags": []
   },
   "source": [
    "### determine business objectives"
   ]
  },
  {
   "cell_type": "markdown",
   "metadata": {
    "jp-MarkdownHeadingCollapsed": true,
    "tags": []
   },
   "source": [
    "#### background\n",
    "  Currently retail is the most popular way to sale goods and services to end-user. Retail need follow users' trends and provide relevant goods. Consider facts about retail.<br>\n",
    "\n",
    "  Retailers can be divided into **online and ofline**. The online shops brings to industry higher competition and requier retailer accurately select products for sale. Futhermore, online retailers make shops focuse on narrow spreads of items, as online retailer may suggest products with more quality to any user. It means retailer should know customers' interests to earn incomes.\n",
    "\n",
    "  Consumers has dozens options when looking to purchase good. It means that retailer have high **competition** and need to analays castomer preferences to earn income.\n",
    "  \n",
    "  The **income of retailer** is consist of sold amoung of products. It means retailer should controle prices to earn profit. Price can be one of two types: \"Cost-plus\" and \"Sugested retails\". In first case salesman can manipulate price (for example make it higher). But demand and competition doesn't allow saller infinitly increase price. Thus retailer should find optimal price. On second cost of product is determined by manufacturer.\n",
    "\n",
    "#### business objectives\n",
    "  From background we may conclude that, the main objective of retail business is earn maximum profit by saling goods from Store and faster react on clients requests to deal with competitors. It means retailer is intrestied in selecting goods that satisfy retailer's customer. Futhermore, retailer should deliver products to the closest to client warehouse. Thus, main business questions are:\n",
    "[comment]: <> (and finding price which will bring demand and income)\n",
    "\n",
    "[comment]: <> (First Idea)\n",
    "[comment]: <> (- Which prices for which product may give me maximum income?)\n",
    "    \n",
    "[comment]: <> (- How many units of products can I sale for given price?)\n",
    "\n",
    "- Which products will be more intresting (relevant) for groups of customers?\n",
    "- Which products should retailer deliver to stores in some country?\n",
    "\n",
    "\n",
    "#### business success criteria\n",
    "Success criteria for retailer is satisfaction of majority of clients, efective use of warehouses (high quantity of sold product). This will bring benefits to retailer as he will be able to predicts products to collect, suggest better prices to customers and even earn higgher income.\n"
   ]
  },
  {
   "cell_type": "markdown",
   "metadata": {
    "tags": []
   },
   "source": [
    "### assess situation"
   ]
  },
  {
   "cell_type": "markdown",
   "metadata": {},
   "source": [
    "#### inventory of resources\n",
    "Now **assess personnel resources**. Prject will be done by one person which will perform following roles:business experts, data expert, technical support, data mining personnel.\n",
    "\n",
    "Initialy we are given dataset with columns: `InvoiceNo, StockCode, Description, Quantity, InvoiceDate, UnitPrice, CustomerID, Country` and is **accessed with fix extracts**.\n",
    "\n",
    "To access data Python (pandas and numpy) will be used.\n",
    "\n",
    "This project will be executed on persanal computer and deployment on server (with avarage requirements) will be considered.\n",
    "    \n",
    "#### requirements, assumptions and constraint\n",
    "    requirement:\n",
    "   The deadline for this project is 2 weeks. Thus project will have following **schedule of completion**. First week will be used to creeate business goals, understand data and preprocess data. During second week model and evaluation step will be performed. Last two or three days will be taken to deploy project.\n",
    "    \n",
    "   Requironment for **comprehensibility and quality of results** is following. Result should describe relation between number of sold products and price.\n",
    "    \n",
    "   During this project data about client's purchases. **Clients'purchases is private data and should be protected**.\n",
    "    \n",
    "    assumptions:\n",
    "Consider all **assumptions** made by the project.\n",
    "    \n",
    ">Economic crisises,fashion or other external event may influence on customers' decisions, thus we assume that purchases list is independent from external factors.\n",
    "\n",
    ">We assume that customers preferences can be tracked with number of sold products.\n",
    "\n",
    "     constraint:\n",
    "There may be **constaraints** related to personal data. First of all majority of retailers prefer to keep their data private as well as clients may worry about their data.\n",
    "Futhermore, we currently use dataset which consider only sales for retailers. We don't know spendings of retailer for product and cannot preduct price which will repay spendings.\n",
    "    \n",
    "    \n",
    "#### Risks and contingencies\n",
    "Real relevants of products can deviate from predicted as give model doesn't consider external events.\n",
    "\n",
    "Costumers may change retailers and new clients may come to this retailer. That change preferences of group of customers. Thus prices should be evaluated periodicaly.\n",
    "#### Terminology\n",
    "<b> Retail </b> is the sale of goods or service from a business to a consumer for their own use\n",
    "\n",
    "<b>Demand</b> is an economic principle referring to a consumer's desire to purchase goods and services depending on price.\n",
    "<b>Income</b> is money that a person or a business receives in return for working, providing a products.\n",
    "\n",
    "<b>Competition</b> is a scenario where many different retailers may suggest same goods.\n",
    "    \n",
    "#### Costs and benefits\n",
    "Assume that there are exist software to collect purchases. Consider cost of using data analysis tool  and evaluating customers' needs with analysts team.\n",
    "First of all, evaluate cost of using software to analyze clients' demand. Cost of <b>development</b> of this application is 550\\\\$ per month (app will be ready during 3 month). When, project will be ready to use, retailer will spend 820\\\\$ per month (500\\\\$ is salary of <b>one analyst</b>, 250 \\\\$ per month is salary of <b>programer who will maintain application</b>, 70$ per month is cost of <b>server</b>). \n",
    "Finally software requier 1650\\\\$ for creation and 820\\\\$\\month for maintaining. \n",
    "\n",
    "Secondly, calculate cost of predicting clients' requests by hand. In this case retailer will need <b>analyst team</b> of 3-4 person (as list of purchases is large). Thus sallary of **analyst** is 500\\\\$ per month. Finally retailer will spend 1500\\\\$ per month.\n",
    "\n",
    "Now we can conclude that, on long-term it is cheaper to pay for this project.\n",
    "\n",
    "Consider benefits which retailer will optain with software and if retailer will continue evaluate customers without software.\n",
    "Firstly, show benefits for retailer if  retailer will use software:\n",
    "    \n",
    "- It requier less human sources\n",
    "    \n",
    "- It perform evaluation faster and can evaluate clients' needs frequently\n",
    "     \n",
    "Finaly, consider benefits of retailer who don't have software to satisfy clients' needs:\n",
    "- Don't need to speend money for development\n",
    "- Humans sometimes may bring better prediction as they may analize external factors\n",
    "    "
   ]
  },
  {
   "cell_type": "markdown",
   "metadata": {
    "tags": []
   },
   "source": [
    "### determine data mining goals"
   ]
  },
  {
   "cell_type": "markdown",
   "metadata": {
    "jp-MarkdownHeadingCollapsed": true,
    "tags": []
   },
   "source": [
    "We have following business goals:\n",
    "- Which products will be more intresting (relevant) for customers?\n",
    "- Which products should retailer deliver to stores in some country?\n",
    "\n",
    "Thus data mining goals is: \n",
    ">    Predict relevance (probability that product will be relevant) for customer in some period of time, if information about customers' country, period of time and previous interest is given. Then select 20 most relevant product for all countries\n",
    "#### data mining success criteria\n",
    "Accuracy of price in cross-validation MSE is higher then 90%."
   ]
  },
  {
   "cell_type": "markdown",
   "metadata": {
    "jp-MarkdownHeadingCollapsed": true,
    "tags": []
   },
   "source": [
    "### produce project plan"
   ]
  },
  {
   "cell_type": "markdown",
   "metadata": {
    "jp-MarkdownHeadingCollapsed": true,
    "tags": []
   },
   "source": [
    "#### project plan\n",
    "1. Understanding and preprocessing datasets\n",
    "    - duration: 1 day\n",
    "    - resources required: python (numpy, pandas)\n",
    "    - inputs: dataset\n",
    "    - outputs: cleaned dataset\n",
    "    - Tasks:\n",
    "         * check errors, empty cells, in dataset and correct them\n",
    "         * convert text to numerical datatypes\n",
    "     - Evaluation of result: \n",
    "         Output dataset can be used in ML models (no text, nulls)\n",
    "2. Creating models\n",
    "    - duration: 2-3 days\n",
    "    - resources required: python (numpy, pandas)\n",
    "    - inputs: dataset\n",
    "    - outputs: dataset of prices\n",
    "    - Tasks:\n",
    "        - apply one of regrassion model for given task\n",
    "    - Evaluation of result: \n",
    "        - models provides some predictions (which will be evaluated during evaluation stage)\n",
    "    - Criteria:MSE\n",
    "3. Evaluation\n",
    "     - duration: 1 days\n",
    "     - resources required: python (numpy, pandas)\n",
    "     - inputs: predictions and dataset\n",
    "     - outputs: accuracy score\n",
    "     - Tasks:\n",
    "         - **use cross-validation and MSE**\n",
    "         - evaluate result of model stage\n",
    "         - check satisfaction with data mining goals and business goals\n",
    "         - determine next step (create or improve model, complete task)\n",
    "     - Evaluation criteria:MSE\n",
    "4. Deployment\n",
    "    - duration: 2 days\n",
    "    - resources required: python (numpy, pandas)\n",
    "    - inputs: predictions and dataset\n",
    "    - outputs: report\n",
    "    - Tasks:\n",
    "         - create report for project\n",
    "     \n",
    "#### initial assessment of tools and techniques\n",
    "    Python (with libraries: Pandas, Numpy, scikit-learn)"
   ]
  }
 ],
 "metadata": {
  "colab": {
   "authorship_tag": "ABX9TyP0tcb9vN+g/E9NCP5Xbry9",
   "collapsed_sections": [],
   "name": "business-understanding.ipynb",
   "provenance": []
  },
  "kernelspec": {
   "display_name": "Python 3 (ipykernel)",
   "language": "python",
   "name": "python3"
  },
  "language_info": {
   "codemirror_mode": {
    "name": "ipython",
    "version": 3
   },
   "file_extension": ".py",
   "mimetype": "text/x-python",
   "name": "python",
   "nbconvert_exporter": "python",
   "pygments_lexer": "ipython3",
   "version": "3.8.8"
  }
 },
 "nbformat": 4,
 "nbformat_minor": 4
}
