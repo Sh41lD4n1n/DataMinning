{
 "cells": [
  {
   "cell_type": "markdown",
   "metadata": {
    "id": "_RbelOPK4TFB",
    "jp-MarkdownHeadingCollapsed": true,
    "tags": []
   },
   "source": [
    "# business understanding\n",
    "------------\n",
    "\n",
    "This initial phase focuses on understanding the project objectives and requirements from a business perspective, then converting this knowledge into a data mining problem definition and a preliminary plan designed to achieve the objectives.\n"
   ]
  },
  {
   "cell_type": "markdown",
   "metadata": {
    "id": "77gTgxgz4PYQ",
    "tags": []
   },
   "source": [
    "### determine business objectives"
   ]
  },
  {
   "cell_type": "markdown",
   "metadata": {
    "jp-MarkdownHeadingCollapsed": true,
    "tags": []
   },
   "source": [
    "#### background\n",
    "  Currently retail is the most popular way to sale goods and services to end-user. Retail need follow users' trends and provide relevant goods. Consider facts about retail.<br>\n",
    "\n",
    "  Retailers can be divided into **online and ofline**. The online shops brings to industry higher competition and requier retailer accurately select products for sale. Futhermore, online retailers make shops focuse on narrow spreads of items, as online retailer may suggest products with more quality to any user. It means retailer should know customers' interests to earn incomes.\n",
    "\n",
    "  Consumers has dozens options when looking to purchase good. It means that retailer have high **competition** and need to analays castomer preferences to earn income.\n",
    "  \n",
    "  The **income of retailer** is consist of sold amoung of products. It means retailer should controle prices to earn profit. Price can be one of two types: \"Cost-plus\" and \"Sugested retails\". In first case salesman can manipulate price (for example make it higher). But demand and competition doesn't allow saller infinitly increase price. Thus retailer should find optimal price. On second cost of product is determined by manufacturer.\n",
    "\n",
    "#### business objectives\n",
    "  From background we may conclude that, the main objective of retail business is earn maximum profit by saling goods from Store and faster react on clients requests to deal with competitors. It means retailer is intrestied in selecting goods that satisfy retailer's customer. Futhermore, retailer should deliver products to the closest to client warehouse. Thus, main business questions are:\n",
    "[comment]: <> (and finding price which will bring demand and income)\n",
    "\n",
    "[comment]: <> (First Idea)\n",
    "[comment]: <> (- Which prices for which product may give me maximum income?)\n",
    "    \n",
    "[comment]: <> (- How many units of products can I sale for given price?)\n",
    "\n",
    "- Which products will be more intresting (relevant) for groups of customers?\n",
    "- Which products should retailer deliver to stores in some country?\n",
    "\n",
    "\n",
    "#### business success criteria\n",
    "Success criteria for retailer is satisfaction of majority of clients, efective use of warehouses (high quantity of sold product). This will bring benefits to retailer as he will be able to predicts products to collect, suggest better prices to customers and even earn higgher income.\n"
   ]
  },
  {
   "cell_type": "markdown",
   "metadata": {
    "tags": []
   },
   "source": [
    "### assess situation"
   ]
  },
  {
   "cell_type": "markdown",
   "metadata": {},
   "source": [
    "#### inventory of resources\n",
    "Now **assess personnel resources**. Prject will be done by one person which will perform following roles:business experts, data expert, technical support, data mining personnel.\n",
    "\n",
    "Initialy we are given dataset with columns: `InvoiceNo, StockCode, Description, Quantity, InvoiceDate, UnitPrice, CustomerID, Country` and is **accessed with fix extracts**.\n",
    "\n",
    "To access data Python (pandas and numpy) will be used.\n",
    "\n",
    "This project will be executed on persanal computer and deployment on server (with avarage requirements) will be considered.\n",
    "    \n",
    "#### requirements, assumptions and constraint\n",
    "    requirement:\n",
    "   The deadline for this project is 2 weeks. Thus project will have following **schedule of completion**. First week will be used to creeate business goals, understand data and preprocess data. During second week model and evaluation step will be performed. Last two or three days will be taken to deploy project.\n",
    "    \n",
    "   Requironment for **comprehensibility and quality of results** is following. Result should describe relation between number of sold products and price.\n",
    "    \n",
    "   During this project data about client's purchases. **Clients'purchases is private data and should be protected**.\n",
    "    \n",
    "    assumptions:\n",
    "Consider all **assumptions** made by the project.\n",
    "    \n",
    ">Economic crisises,fashion or other external event may influence on customers' decisions, thus we assume that purchases list is independent from external factors.\n",
    "\n",
    ">We assume that customers preferences can be tracked with number of sold products.\n",
    "\n",
    "     constraint:\n",
    "There may be **constaraints** related to personal data. First of all majority of retailers prefer to keep their data private as well as clients may worry about their data.\n",
    "Futhermore, we currently use dataset which consider only sales for retailers. We don't know spendings of retailer for product and cannot preduct price which will repay spendings.\n",
    "    \n",
    "    \n",
    "#### Risks and contingencies\n",
    "Real relevants of products can deviate from predicted as give model doesn't consider external events.\n",
    "\n",
    "Costumers may change retailers and new clients may come to this retailer. That change preferences of group of customers. Thus prices should be evaluated periodicaly.\n",
    "#### Terminology\n",
    "<b> Retail </b> is the sale of goods or service from a business to a consumer for their own use\n",
    "\n",
    "<b>Demand</b> is an economic principle referring to a consumer's desire to purchase goods and services depending on price.\n",
    "<b>Income</b> is money that a person or a business receives in return for working, providing a products.\n",
    "\n",
    "<b>Competition</b> is a scenario where many different retailers may suggest same goods.\n",
    "    \n",
    "#### Costs and benefits\n",
    "Assume that there are exist software to collect purchases. Consider cost of using data analysis tool  and evaluating customers' needs with analysts team.\n",
    "First of all, evaluate cost of using software to analyze clients' demand. Cost of <b>development</b> of this application is 550\\\\$ per month (app will be ready during 3 month). When, project will be ready to use, retailer will spend 820\\\\$ per month (500\\\\$ is salary of <b>one analyst</b>, 250 \\\\$ per month is salary of <b>programer who will maintain application</b>, 70$ per month is cost of <b>server</b>). \n",
    "Finally software requier 1650\\\\$ for creation and 820\\\\$\\month for maintaining. \n",
    "\n",
    "Secondly, calculate cost of predicting clients' requests by hand. In this case retailer will need <b>analyst team</b> of 3-4 person (as list of purchases is large). Thus sallary of **analyst** is 500\\\\$ per month. Finally retailer will spend 1500\\\\$ per month.\n",
    "\n",
    "Now we can conclude that, on long-term it is cheaper to pay for this project.\n",
    "\n",
    "Consider benefits which retailer will optain with software and if retailer will continue evaluate customers without software.\n",
    "Firstly, show benefits for retailer if  retailer will use software:\n",
    "    \n",
    "- It requier less human sources\n",
    "    \n",
    "- It perform evaluation faster and can evaluate clients' needs frequently\n",
    "     \n",
    "Finaly, consider benefits of retailer who don't have software to satisfy clients' needs:\n",
    "- Don't need to speend money for development\n",
    "- Humans sometimes may bring better prediction as they may analize external factors\n",
    "    "
   ]
  },
  {
   "cell_type": "markdown",
   "metadata": {
    "tags": []
   },
   "source": [
    "### determine data mining goals"
   ]
  },
  {
   "cell_type": "markdown",
   "metadata": {
    "jp-MarkdownHeadingCollapsed": true,
    "tags": []
   },
   "source": [
    "We have following business goals:\n",
    "- Which products will be more intresting (relevant) for customers?\n",
    "- Which products should retailer deliver to stores in some country?\n",
    "\n",
    "Thus data mining goals is: \n",
    ">    Predict relevance (probability that product will be relevant) for customer in some period of time, if information about customers' country, period of time and previous interest is given. Then select 20 most relevant product for all countries\n",
    "#### data mining success criteria\n",
    "Accuracy of price in cross-validation MSE is higher then 90%."
   ]
  },
  {
   "cell_type": "markdown",
   "metadata": {
    "jp-MarkdownHeadingCollapsed": true,
    "tags": []
   },
   "source": [
    "### produce project plan"
   ]
  },
  {
   "cell_type": "markdown",
   "metadata": {
    "jp-MarkdownHeadingCollapsed": true,
    "tags": []
   },
   "source": [
    "#### project plan\n",
    "1. Understanding and preprocessing datasets\n",
    "    - duration: 1 day\n",
    "    - resources required: python (numpy, pandas)\n",
    "    - inputs: dataset\n",
    "    - outputs: cleaned dataset\n",
    "    - Tasks:\n",
    "         * check errors, empty cells, in dataset and correct them\n",
    "         * convert text to numerical datatypes\n",
    "     - Evaluation of result: \n",
    "         Output dataset can be used in ML models (no text, nulls)\n",
    "2. Creating models\n",
    "    - duration: 2-3 days\n",
    "    - resources required: python (numpy, pandas)\n",
    "    - inputs: dataset\n",
    "    - outputs: dataset of prices\n",
    "    - Tasks:\n",
    "        - apply one of regrassion model for given task\n",
    "    - Evaluation of result: \n",
    "        - models provides some predictions (which will be evaluated during evaluation stage)\n",
    "    - Criteria:MSE\n",
    "3. Evaluation\n",
    "     - duration: 1 days\n",
    "     - resources required: python (numpy, pandas)\n",
    "     - inputs: predictions and dataset\n",
    "     - outputs: accuracy score\n",
    "     - Tasks:\n",
    "         - **use cross-validation and MSE**\n",
    "         - evaluate result of model stage\n",
    "         - check satisfaction with data mining goals and business goals\n",
    "         - determine next step (create or improve model, complete task)\n",
    "     - Evaluation criteria:MSE\n",
    "4. Deployment\n",
    "    - duration: 2 days\n",
    "    - resources required: python (numpy, pandas)\n",
    "    - inputs: predictions and dataset\n",
    "    - outputs: report\n",
    "    - Tasks:\n",
    "         - create report for project\n",
    "     \n",
    "#### initial assessment of tools and techniques\n",
    "    Python (with libraries: Pandas, Numpy, scikit-learn)"
   ]
  }
 ],
 "metadata": {
  "colab": {
   "authorship_tag": "ABX9TyP0tcb9vN+g/E9NCP5Xbry9",
   "collapsed_sections": [],
   "name": "business-understanding.ipynb",
   "provenance": []
  },
  "kernelspec": {
   "display_name": "Python 3 (ipykernel)",
   "language": "python",
   "name": "python3"
  },
  "language_info": {
   "codemirror_mode": {
    "name": "ipython",
    "version": 3
   },
   "file_extension": ".py",
   "mimetype": "text/x-python",
   "name": "python",
   "nbconvert_exporter": "python",
   "pygments_lexer": "ipython3",
   "version": "3.8.8"
  }
 },
 "nbformat": 4,
 "nbformat_minor": 4
}
